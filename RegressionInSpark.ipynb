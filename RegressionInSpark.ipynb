{
 "cells": [
  {
   "cell_type": "code",
   "execution_count": 11,
   "metadata": {},
   "outputs": [],
   "source": [
    "import findspark"
   ]
  },
  {
   "cell_type": "code",
   "execution_count": 12,
   "metadata": {},
   "outputs": [],
   "source": [
    "findspark.init()"
   ]
  },
  {
   "cell_type": "code",
   "execution_count": 13,
   "metadata": {},
   "outputs": [],
   "source": [
    "import pyspark"
   ]
  },
  {
   "cell_type": "code",
   "execution_count": 14,
   "metadata": {},
   "outputs": [],
   "source": [
    "from pyspark.sql.types import *\n",
    "from pyspark.sql.functions import *\n",
    "from pyspark.ml.regression import LinearRegression\n",
    "from pyspark.ml.feature import VectorAssembler\n",
    "from pyspark.sql import SparkSession"
   ]
  },
  {
   "cell_type": "code",
   "execution_count": 15,
   "metadata": {},
   "outputs": [],
   "source": [
    "#create spark session\n",
    "appName = \"Regression in Spark\"\n",
    "\n",
    "spark = SparkSession \\\n",
    ".builder \\\n",
    ".appName(appName) \\\n",
    ".config(\"spark.some.config.option\",\"some-value\") \\\n",
    ".getOrCreate()"
   ]
  },
  {
   "cell_type": "code",
   "execution_count": 16,
   "metadata": {},
   "outputs": [
    {
     "name": "stdout",
     "output_type": "stream",
     "text": [
      "+----------+---------+------+---------------+-------------+--------+--------+\n",
      "|DayOfMonth|DayOfWeek|Career|OriginAirportID|DestAirportID|DepDelay|ArrDelay|\n",
      "+----------+---------+------+---------------+-------------+--------+--------+\n",
      "|        19|        5|    DL|          11433|        13303|      -3|       1|\n",
      "|        19|        5|    DL|          14869|        12478|       0|      -8|\n",
      "|        19|        5|    DL|          14057|        14869|      -4|     -15|\n",
      "+----------+---------+------+---------------+-------------+--------+--------+\n",
      "only showing top 3 rows\n",
      "\n"
     ]
    }
   ],
   "source": [
    "#read csv data with our defined schema\n",
    "flightSchema = StructType([\n",
    "    StructField(\"DayOfMonth\",IntegerType(),False),\n",
    "    StructField(\"DayOfWeek\", IntegerType(), False),\n",
    "    StructField(\"Career\", StringType(),False),\n",
    "    StructField(\"OriginAirportID\", IntegerType(),False),\n",
    "    StructField(\"DestAirportID\",IntegerType(),False),\n",
    "    StructField(\"DepDelay\", IntegerType(),False),\n",
    "    StructField(\"ArrDelay\", IntegerType(), False)\n",
    "    \n",
    "])\n",
    "\n",
    "#read csv data with our defined schema\n",
    "flightDataFrame = spark.read.csv('C:/Users/aayushi srivastava/Documents/AayushiSrivastavaJobSearch/PySparkProjects/dataset/flights.csv', schema = flightSchema, header = True)\n",
    "flightDataFrame.show(3)"
   ]
  },
  {
   "cell_type": "code",
   "execution_count": 17,
   "metadata": {},
   "outputs": [
    {
     "name": "stdout",
     "output_type": "stream",
     "text": [
      "+----------+---------+---------------+-------------+--------+--------+\n",
      "|DayOfMonth|DayOfWeek|OriginAirportID|DestAirportID|DepDelay|ArrDelay|\n",
      "+----------+---------+---------------+-------------+--------+--------+\n",
      "|        19|        5|          11433|        13303|      -3|       1|\n",
      "|        19|        5|          14869|        12478|       0|      -8|\n",
      "|        19|        5|          14057|        14869|      -4|     -15|\n",
      "+----------+---------+---------------+-------------+--------+--------+\n",
      "only showing top 3 rows\n",
      "\n"
     ]
    }
   ],
   "source": [
    "#select related column data for our regression input features\n",
    "data = flightDataFrame.select(\"DayOfMonth\",\"DayOfWeek\",\"OriginAirportID\",\"DestAirportID\",\"DepDelay\",\"ArrDelay\")\n",
    "data.show(3)"
   ]
  },
  {
   "cell_type": "code",
   "execution_count": 18,
   "metadata": {},
   "outputs": [
    {
     "name": "stdout",
     "output_type": "stream",
     "text": [
      "Training Data rows: 1890030 ;Testing Data rows: 812188\n"
     ]
    }
   ],
   "source": [
    "#Divide data 70% for training, 30% for testing\n",
    "dividedData = data.randomSplit([0.7,0.3])\n",
    "trainingData = dividedData[0]\n",
    "testingData = dividedData[1]\n",
    "train_rows = trainingData.count()\n",
    "test_rows = testingData.count()\n",
    "print(\"Training Data rows:\",train_rows,\";Testing Data rows:\",test_rows)"
   ]
  },
  {
   "cell_type": "code",
   "execution_count": 21,
   "metadata": {},
   "outputs": [
    {
     "name": "stdout",
     "output_type": "stream",
     "text": [
      "+------------------------------+-----+\n",
      "|features                      |label|\n",
      "+------------------------------+-----+\n",
      "|[1.0,1.0,10140.0,10397.0,-4.0]|-11  |\n",
      "|[1.0,1.0,10140.0,10821.0,8.0] |-9   |\n",
      "|[1.0,1.0,10140.0,11259.0,-3.0]|-11  |\n",
      "+------------------------------+-----+\n",
      "only showing top 3 rows\n",
      "\n"
     ]
    }
   ],
   "source": [
    "#Prepare Training Data\n",
    "#define an assembler\n",
    "assembler = VectorAssembler(inputCols = [\n",
    "    \"DayOfMonth\",\"DayOfWeek\",\"OriginAirportID\",\"DestAirportID\",\"DepDelay\"], outputCol = \"features\")\n",
    "#change our features into one column using our defined assembler\n",
    "trainingDataFinal = assembler.transform(trainingData).select(col(\"features\"),(col(\"ArrDelay\").cast(\"Int\").alias(\"label\")))\n",
    "\n",
    "trainingDataFinal.show(truncate=False,n=3)"
   ]
  },
  {
   "cell_type": "code",
   "execution_count": 23,
   "metadata": {},
   "outputs": [
    {
     "name": "stdout",
     "output_type": "stream",
     "text": [
      "Regression model is trained\n"
     ]
    }
   ],
   "source": [
    "#Train our regression model using our training data\n",
    "#call Spark linear regression we import before\n",
    "algoritma = LinearRegression(labelCol=\"label\",featuresCol = \"features\", maxIter=10,regParam=0.3)\n",
    "\n",
    "#train the model\n",
    "model = algoritma.fit(trainingDataFinal)\n",
    "print(\"Regression model is trained\")"
   ]
  },
  {
   "cell_type": "code",
   "execution_count": 26,
   "metadata": {},
   "outputs": [
    {
     "name": "stdout",
     "output_type": "stream",
     "text": [
      "+------------------------------+---------+\n",
      "|features                      |trueLabel|\n",
      "+------------------------------+---------+\n",
      "|[1.0,1.0,10140.0,10397.0,-2.0]|-17      |\n",
      "|[1.0,1.0,10140.0,11259.0,-2.0]|-14      |\n",
      "+------------------------------+---------+\n",
      "only showing top 2 rows\n",
      "\n"
     ]
    }
   ],
   "source": [
    "#Prepare Testing Data\n",
    "#change our feature data into one column using our defined assembler\n",
    "#just like we did before in the training data\n",
    "testingDataFinal = assembler.transform(\n",
    "    testingData).select(\n",
    "    col(\"features\"),(col(\"ArrDelay\")).cast(\"Int\").alias(\"trueLabel\"))\n",
    "testingDataFinal.show(truncate=False,n=2)"
   ]
  },
  {
   "cell_type": "code",
   "execution_count": 27,
   "metadata": {},
   "outputs": [
    {
     "name": "stdout",
     "output_type": "stream",
     "text": [
      "+--------------------+---------+------------------+\n",
      "|            features|trueLabel|        prediction|\n",
      "+--------------------+---------+------------------+\n",
      "|[1.0,1.0,10140.0,...|      -17|-5.560719461557764|\n",
      "|[1.0,1.0,10140.0,...|      -14|-5.762820107840266|\n",
      "|[1.0,1.0,10140.0,...|       -6|-4.773488417121978|\n",
      "+--------------------+---------+------------------+\n",
      "only showing top 3 rows\n",
      "\n"
     ]
    }
   ],
   "source": [
    "#Predict the testing data using our trained model\n",
    "prediction = model.transform(testingDataFinal)\n",
    "#show some prediction results\n",
    "prediction.show(3)"
   ]
  },
  {
   "cell_type": "code",
   "execution_count": 31,
   "metadata": {},
   "outputs": [
    {
     "name": "stdout",
     "output_type": "stream",
     "text": [
      "Root Mean Square Error (RMSE): 13.22474706360927\n"
     ]
    }
   ],
   "source": [
    "#Calculate your model performance\n",
    "from pyspark.ml.evaluation import RegressionEvaluator\n",
    "\n",
    "#define our evaluator\n",
    "evaluator = RegressionEvaluator(\n",
    "labelCol = \"trueLabel\", predictionCol = \"prediction\", metricName = \"rmse\")\n",
    "\n",
    "#Calculate RMSE of our trained model\n",
    "rmse = evaluator.evaluate(prediction)\n",
    "print(\"Root Mean Square Error (RMSE):\", rmse)"
   ]
  },
  {
   "cell_type": "code",
   "execution_count": null,
   "metadata": {},
   "outputs": [],
   "source": []
  }
 ],
 "metadata": {
  "kernelspec": {
   "display_name": "Python 3",
   "language": "python",
   "name": "python3"
  },
  "language_info": {
   "codemirror_mode": {
    "name": "ipython",
    "version": 3
   },
   "file_extension": ".py",
   "mimetype": "text/x-python",
   "name": "python",
   "nbconvert_exporter": "python",
   "pygments_lexer": "ipython3",
   "version": "3.7.3"
  }
 },
 "nbformat": 4,
 "nbformat_minor": 2
}
