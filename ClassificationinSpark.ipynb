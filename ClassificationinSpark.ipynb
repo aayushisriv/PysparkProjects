{
 "cells": [
  {
   "cell_type": "code",
   "execution_count": 1,
   "metadata": {},
   "outputs": [],
   "source": [
    "import findspark"
   ]
  },
  {
   "cell_type": "code",
   "execution_count": 2,
   "metadata": {},
   "outputs": [],
   "source": [
    "findspark.init()"
   ]
  },
  {
   "cell_type": "code",
   "execution_count": 3,
   "metadata": {},
   "outputs": [],
   "source": [
    "import pyspark"
   ]
  },
  {
   "cell_type": "code",
   "execution_count": 4,
   "metadata": {},
   "outputs": [],
   "source": [
    "from pyspark.sql.types import *\n",
    "from pyspark.sql.functions import *\n",
    "from pyspark.ml.classification import LogisticRegression\n",
    "from pyspark.ml.feature import VectorAssembler"
   ]
  },
  {
   "cell_type": "code",
   "execution_count": 5,
   "metadata": {},
   "outputs": [],
   "source": [
    "#create spark session\n",
    "from pyspark.sql import SparkSession\n",
    "appName = \"Classification in Spark\"\n",
    "spark = SparkSession \\\n",
    ".builder \\\n",
    ".appName(appName) \\\n",
    ".config(\"spark.some.config.option\",\"some-value\") \\\n",
    ".getOrCreate()"
   ]
  },
  {
   "cell_type": "code",
   "execution_count": 6,
   "metadata": {},
   "outputs": [
    {
     "name": "stdout",
     "output_type": "stream",
     "text": [
      "+----------+---------+-------+---------------+-------------+--------+--------+\n",
      "|DayOfMonth|DayOfWeek|Carrier|OriginAirportID|DestAirportID|DepDelay|ArrDelay|\n",
      "+----------+---------+-------+---------------+-------------+--------+--------+\n",
      "|        19|        5|     DL|          11433|        13303|      -3|       1|\n",
      "|        19|        5|     DL|          14869|        12478|       0|      -8|\n",
      "|        19|        5|     DL|          14057|        14869|      -4|     -15|\n",
      "+----------+---------+-------+---------------+-------------+--------+--------+\n",
      "only showing top 3 rows\n",
      "\n"
     ]
    }
   ],
   "source": [
    "#define our schema\n",
    "flightSchema = StructType([\n",
    "    StructField(\"DayOfMonth\", IntegerType(), False),\n",
    "    StructField(\"DayOfWeek\", IntegerType(), False),\n",
    "    StructField(\"Carrier\", StringType(),False),\n",
    "    StructField(\"OriginAirportID\", IntegerType(), False),\n",
    "    StructField(\"DestAirportID\", IntegerType(), False),\n",
    "    StructField(\"DepDelay\", IntegerType(), False),\n",
    "    StructField(\"ArrDelay\", IntegerType(), False)\n",
    "])\n",
    "\n",
    "#read csv data with our defined schema\n",
    "csv = spark.read.csv('C:/Users/aayushi srivastava/Documents/AayushiSrivastavaJobSearch/PySparkProjects/dataset/flights.csv', schema = flightSchema, header = True)\n",
    "                     \n",
    "csv.show(3)"
   ]
  },
  {
   "cell_type": "code",
   "execution_count": 7,
   "metadata": {},
   "outputs": [
    {
     "name": "stdout",
     "output_type": "stream",
     "text": [
      "+----------+---------+---------------+-------------+--------+----+\n",
      "|DayOfMonth|DayOfWeek|OriginAirportID|DestAirportID|DepDelay|Late|\n",
      "+----------+---------+---------------+-------------+--------+----+\n",
      "|        19|        5|          11433|        13303|      -3|   0|\n",
      "|        19|        5|          14869|        12478|       0|   0|\n",
      "|        19|        5|          14057|        14869|      -4|   0|\n",
      "+----------+---------+---------------+-------------+--------+----+\n",
      "only showing top 3 rows\n",
      "\n"
     ]
    }
   ],
   "source": [
    "#select important data for classification features and change arrival delay into binary class late vs not late\n",
    "data = csv.select(\"DayOfMonth\",\"DayOfWeek\",\"OriginAirportID\",\"DestAirportID\",\"DepDelay\",((col(\"ArrDelay\") > 15).cast(\"Int\").alias(\"Late\")))\n",
    "data.show(3)"
   ]
  },
  {
   "cell_type": "code",
   "execution_count": 8,
   "metadata": {},
   "outputs": [
    {
     "name": "stdout",
     "output_type": "stream",
     "text": [
      "Training Data is:  1889829 Testing Data is:  812389\n"
     ]
    }
   ],
   "source": [
    "#Divide data into 70% for training and 30 5 for testing\n",
    "dividedData = data.randomSplit([0.7,0.3])\n",
    "trainingData = dividedData[0] #index 0 = data training\n",
    "testingData = dividedData[1] # index 1 = data testing\n",
    "train_rows = trainingData.count()\n",
    "test_rows = testingData.count()\n",
    "print(\"Training Data is: \",train_rows,\"Testing Data is: \",test_rows)"
   ]
  },
  {
   "cell_type": "code",
   "execution_count": 13,
   "metadata": {},
   "outputs": [
    {
     "name": "stdout",
     "output_type": "stream",
     "text": [
      "+------------------------------+-----+\n",
      "|features                      |label|\n",
      "+------------------------------+-----+\n",
      "|[1.0,1.0,10140.0,10821.0,8.0] |0    |\n",
      "|[1.0,1.0,10140.0,11259.0,-3.0]|0    |\n",
      "+------------------------------+-----+\n",
      "only showing top 2 rows\n",
      "\n"
     ]
    }
   ],
   "source": [
    "#Prepare training data\n",
    "#define an assembler\n",
    "assembler = VectorAssembler(inputCols= [\"DayOfMonth\",\n",
    "    \"DayOfWeek\", \"OriginAirportID\",\"DestAirportID\", \"DepDelay\"], outputCol = \"features\")\n",
    "\n",
    "trainingDataFinal = assembler.transform(\n",
    "trainingData).select(col(\"features\"), col(\"Late\").alias(\"label\"))\n",
    "\n",
    "trainingDataFinal.show(truncate = False, n=2)"
   ]
  },
  {
   "cell_type": "code",
   "execution_count": 14,
   "metadata": {},
   "outputs": [
    {
     "name": "stdout",
     "output_type": "stream",
     "text": [
      "Classifier model is trained\n"
     ]
    }
   ],
   "source": [
    "#Train our classifier model using training data\n",
    "#define our classifier\n",
    "classifier = LogisticRegression(\n",
    "labelCol = \"label\", featuresCol = \"features\", maxIter = 10, regParam = 0.3)\n",
    "\n",
    "#train our classifier\n",
    "model = classifier.fit(trainingDataFinal)\n",
    "print(\"Classifier model is trained\")"
   ]
  },
  {
   "cell_type": "code",
   "execution_count": 15,
   "metadata": {},
   "outputs": [
    {
     "name": "stdout",
     "output_type": "stream",
     "text": [
      "+--------------------+---------+\n",
      "|            features|trueLabel|\n",
      "+--------------------+---------+\n",
      "|[1.0,1.0,10140.0,...|        0|\n",
      "|[1.0,1.0,10140.0,...|        0|\n",
      "|[1.0,1.0,10140.0,...|        0|\n",
      "+--------------------+---------+\n",
      "only showing top 3 rows\n",
      "\n"
     ]
    }
   ],
   "source": [
    "#Prepare testing data\n",
    "testingDataFinal = assembler.transform(\n",
    "testingData).select(col(\"features\"),col(\"Late\").alias(\"trueLabel\"))\n",
    "testingDataFinal.show(3)"
   ]
  },
  {
   "cell_type": "code",
   "execution_count": 16,
   "metadata": {},
   "outputs": [
    {
     "name": "stdout",
     "output_type": "stream",
     "text": [
      "+------------------------------+----------+----------------------------------------+---------+\n",
      "|features                      |prediction|probability                             |trueLabel|\n",
      "+------------------------------+----------+----------------------------------------+---------+\n",
      "|[1.0,1.0,10140.0,10397.0,-4.0]|0.0       |[0.8313282600755334,0.16867173992446666]|0        |\n",
      "|[1.0,1.0,10140.0,10397.0,-2.0]|0.0       |[0.8273665955167756,0.17263340448322437]|0        |\n",
      "|[1.0,1.0,10140.0,11292.0,-1.0]|0.0       |[0.8257590211382007,0.1742409788617994] |0        |\n",
      "+------------------------------+----------+----------------------------------------+---------+\n",
      "only showing top 3 rows\n",
      "\n",
      "+------------------------------+---------+----------------------------------------+----------------------------------------+----------+\n",
      "|features                      |trueLabel|rawPrediction                           |probability                             |prediction|\n",
      "+------------------------------+---------+----------------------------------------+----------------------------------------+----------+\n",
      "|[1.0,1.0,10140.0,10397.0,-4.0]|0        |[1.5950702762271973,-1.5950702762271973]|[0.8313282600755334,0.16867173992446666]|0.0       |\n",
      "|[1.0,1.0,10140.0,10397.0,-2.0]|0        |[1.567077583471634,-1.567077583471634]  |[0.8273665955167756,0.17263340448322437]|0.0       |\n",
      "|[1.0,1.0,10140.0,11292.0,-1.0]|0        |[1.5558637119299987,-1.5558637119299987]|[0.8257590211382007,0.1742409788617994] |0.0       |\n",
      "+------------------------------+---------+----------------------------------------+----------------------------------------+----------+\n",
      "only showing top 3 rows\n",
      "\n"
     ]
    }
   ],
   "source": [
    "#Predict the testing data using our trained model\n",
    "prediction = model.transform(testingDataFinal)\n",
    "predictionFinal = prediction.select(\n",
    "\"features\", \"prediction\", \"probability\", \"trueLabel\")\n",
    "predictionFinal.show(truncate=False,n=3)\n",
    "prediction.show(truncate=False,n=3)"
   ]
  },
  {
   "cell_type": "code",
   "execution_count": 17,
   "metadata": {},
   "outputs": [
    {
     "name": "stdout",
     "output_type": "stream",
     "text": [
      "correct prediction: 669997 ,total data: 812389 ,accuracy: 0.8247243623436555\n"
     ]
    }
   ],
   "source": [
    "#calculate our model performance\n",
    "correctPrediction = predictionFinal.filter(\n",
    "predictionFinal['prediction'] == predictionFinal['trueLabel']).count()\n",
    "totalData = predictionFinal.count()\n",
    "print(\"correct prediction:\",correctPrediction, \",total data:\",totalData,\",accuracy:\", correctPrediction/totalData)"
   ]
  },
  {
   "cell_type": "code",
   "execution_count": 18,
   "metadata": {},
   "outputs": [
    {
     "name": "stdout",
     "output_type": "stream",
     "text": [
      "Model is trained!\n"
     ]
    }
   ],
   "source": [
    "#Another Classification Algorithm by Spark\n",
    "from pyspark.ml.classification import RandomForestClassifier\n",
    "\n",
    "model2 = RandomForestClassifier(\n",
    "numTrees = 3, maxDepth=5, seed=42,labelCol = \"label\", featuresCol = \"features\")\n",
    "\n",
    "model2 = model2.fit(trainingDataFinal)\n",
    "print(\"Model is trained!\")"
   ]
  },
  {
   "cell_type": "code",
   "execution_count": 19,
   "metadata": {},
   "outputs": [
    {
     "name": "stdout",
     "output_type": "stream",
     "text": [
      "+------------------------------+----------+---------------------------------------+---------+\n",
      "|features                      |prediction|probability                            |trueLabel|\n",
      "+------------------------------+----------+---------------------------------------+---------+\n",
      "|[1.0,1.0,10140.0,10397.0,-4.0]|0.0       |[0.9299175529154877,0.0700824470845123]|0        |\n",
      "|[1.0,1.0,10140.0,10397.0,-2.0]|0.0       |[0.9299175529154877,0.0700824470845123]|0        |\n",
      "|[1.0,1.0,10140.0,11292.0,-1.0]|0.0       |[0.9299175529154877,0.0700824470845123]|0        |\n",
      "+------------------------------+----------+---------------------------------------+---------+\n",
      "only showing top 3 rows\n",
      "\n",
      "Correct Prediction: 753204 total data:  812389 accuracy: 0.9271469702322409\n"
     ]
    }
   ],
   "source": [
    "prediction = model2.transform(testingDataFinal)\n",
    "predictionFinal = prediction.select(\n",
    "\"features\", \"prediction\", \"probability\", \"trueLabel\")\n",
    "predictionFinal.show(truncate = False, n=3)\n",
    "correctPrediction = predictionFinal.filter(\n",
    "predictionFinal['prediction'] == predictionFinal['trueLabel']).count()\n",
    "\n",
    "totalData = predictionFinal.count()\n",
    "print(\"Correct Prediction:\",correctPrediction,\"total data: \",totalData,\"accuracy:\",correctPrediction/totalData)"
   ]
  },
  {
   "cell_type": "code",
   "execution_count": null,
   "metadata": {},
   "outputs": [],
   "source": []
  }
 ],
 "metadata": {
  "kernelspec": {
   "display_name": "Python 3",
   "language": "python",
   "name": "python3"
  },
  "language_info": {
   "codemirror_mode": {
    "name": "ipython",
    "version": 3
   },
   "file_extension": ".py",
   "mimetype": "text/x-python",
   "name": "python",
   "nbconvert_exporter": "python",
   "pygments_lexer": "ipython3",
   "version": "3.7.3"
  }
 },
 "nbformat": 4,
 "nbformat_minor": 2
}
