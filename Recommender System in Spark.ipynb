{
 "cells": [
  {
   "cell_type": "code",
   "execution_count": 1,
   "metadata": {},
   "outputs": [],
   "source": [
    "import findspark"
   ]
  },
  {
   "cell_type": "code",
   "execution_count": 2,
   "metadata": {},
   "outputs": [],
   "source": [
    "findspark.init()"
   ]
  },
  {
   "cell_type": "code",
   "execution_count": 3,
   "metadata": {},
   "outputs": [],
   "source": [
    "import pyspark"
   ]
  },
  {
   "cell_type": "code",
   "execution_count": 4,
   "metadata": {},
   "outputs": [],
   "source": [
    "from pyspark.sql import SparkSession\n",
    "from pyspark.ml.recommendation import ALS"
   ]
  },
  {
   "cell_type": "code",
   "execution_count": 6,
   "metadata": {},
   "outputs": [],
   "source": [
    "#Create session\n",
    "appName = \"Recommender System in Spark\"\n",
    "spark = SparkSession \\\n",
    ".builder \\\n",
    ".appName(appName) \\\n",
    ".config(\"spark.some.config.option\",\"some-value\") \\\n",
    ".getOrCreate()"
   ]
  },
  {
   "cell_type": "code",
   "execution_count": 9,
   "metadata": {},
   "outputs": [
    {
     "name": "stdout",
     "output_type": "stream",
     "text": [
      "+-------+------+------+----------+--------------------+--------------------+\n",
      "|movieId|userId|rating| timestamp|               title|              genres|\n",
      "+-------+------+------+----------+--------------------+--------------------+\n",
      "|     31|     1|   2.5|1260759144|Dangerous Minds (...|               Drama|\n",
      "|   1029|     1|   3.0|1260759179|        Dumbo (1941)|Animation|Childre...|\n",
      "|   1061|     1|   3.0|1260759182|     Sleepers (1996)|            Thriller|\n",
      "+-------+------+------+----------+--------------------+--------------------+\n",
      "only showing top 3 rows\n",
      "\n"
     ]
    }
   ],
   "source": [
    "#Read file into dataframe using automatically inferred schema\n",
    "ratings = spark.read.csv('C:/Users/aayushi srivastava/Documents/AayushiSrivastavaJobSearch/PySparkProjects/dataset/ratings.csv',inferSchema=True,header=True)\n",
    "movies = spark.read.csv('C:/Users/aayushi srivastava/Documents/AayushiSrivastavaJobSearch/PySparkProjects/dataset/movies.csv',inferSchema=True,header=True)\n",
    "#merge movies and ratings dataframe based on movieId\n",
    "ratings.join(movies, \"movieId\").show(3)"
   ]
  },
  {
   "cell_type": "code",
   "execution_count": 10,
   "metadata": {},
   "outputs": [
    {
     "name": "stdout",
     "output_type": "stream",
     "text": [
      "Number of training data rows: 70038 ,Number of testing data rows: 29966\n"
     ]
    }
   ],
   "source": [
    "#data preparation\n",
    "#use only column data of \"userid\",\"movieId\" and \"rating\"\n",
    "data = ratings.select(\"userId\", \"movieId\", \"rating\")\n",
    "#divide data 70% for training and 30% for testing\n",
    "splits = data.randomSplit([0.7,0.3])\n",
    "train = splits[0].withColumnRenamed(\"rating\",\"label\")\n",
    "test = splits[1].withColumnRenamed(\"rating\",\"trueLabel\")\n",
    "\n",
    "#calculate number of rows\n",
    "train_rows = train.count()\n",
    "test_rows = test.count()\n",
    "\n",
    "print(\"Number of training data rows:\",train_rows,\",Number of testing data rows:\",test_rows)"
   ]
  },
  {
   "cell_type": "code",
   "execution_count": 11,
   "metadata": {},
   "outputs": [
    {
     "name": "stdout",
     "output_type": "stream",
     "text": [
      "Training is done\n"
     ]
    }
   ],
   "source": [
    "#Define model and train it\n",
    "#define ALS(Alternating Least Square) as our recommender system\n",
    "als = ALS(maxIter=19, regParam=0.01, userCol=\"userId\",itemCol = \"movieId\", ratingCol = \"label\")\n",
    "#train our ALS model\n",
    "model = als.fit(train)\n",
    "print(\"Training is done\")"
   ]
  },
  {
   "cell_type": "code",
   "execution_count": 12,
   "metadata": {},
   "outputs": [
    {
     "name": "stdout",
     "output_type": "stream",
     "text": [
      "Testing is done\n"
     ]
    }
   ],
   "source": [
    "#Predict Testing Data\n",
    "prediction = model.transform(test)\n",
    "print(\"Testing is done\")"
   ]
  },
  {
   "cell_type": "code",
   "execution_count": 13,
   "metadata": {},
   "outputs": [
    {
     "name": "stdout",
     "output_type": "stream",
     "text": [
      "+------+---------------------------+----------+---------+\n",
      "|userId|title                      |prediction|trueLabel|\n",
      "+------+---------------------------+----------+---------+\n",
      "|232   |Guilty as Sin (1993)       |3.776878  |4.0      |\n",
      "|452   |Guilty as Sin (1993)       |2.7463377 |2.0      |\n",
      "|311   |Guilty as Sin (1993)       |3.3679936 |3.0      |\n",
      "|126   |Hudsucker Proxy, The (1994)|4.1146755 |5.0      |\n",
      "|602   |Hudsucker Proxy, The (1994)|5.495386  |3.0      |\n",
      "|274   |Hudsucker Proxy, The (1994)|2.8339715 |5.0      |\n",
      "|440   |Hudsucker Proxy, The (1994)|2.955805  |3.0      |\n",
      "|86    |Hudsucker Proxy, The (1994)|4.448243  |4.0      |\n",
      "|299   |Hudsucker Proxy, The (1994)|4.7063327 |4.5      |\n",
      "|309   |Hudsucker Proxy, The (1994)|4.5271063 |4.0      |\n",
      "+------+---------------------------+----------+---------+\n",
      "only showing top 10 rows\n",
      "\n"
     ]
    }
   ],
   "source": [
    "prediction.join(movies,\"movieId\").select(\n",
    "\"userId\",\"title\",\"prediction\",\"trueLabel\").show(n=10,truncate=False)"
   ]
  },
  {
   "cell_type": "code",
   "execution_count": 14,
   "metadata": {},
   "outputs": [
    {
     "name": "stdout",
     "output_type": "stream",
     "text": [
      "Root Mean Square Error (RMSE) nan\n"
     ]
    }
   ],
   "source": [
    "#Evaluate the accuracy of our model\n",
    "#import RegressionEvaluator since we also want to calculate RMSE(Root Mean Square Error)\n",
    "from pyspark.ml.evaluation import RegressionEvaluator\n",
    "evaluator = RegressionEvaluator(\n",
    "labelCol = \"trueLabel\", predictionCol = \"prediction\", metricName = \"rmse\")\n",
    "rmse = evaluator.evaluate(prediction)\n",
    "print(\"Root Mean Square Error (RMSE)\", rmse)"
   ]
  },
  {
   "cell_type": "code",
   "execution_count": 15,
   "metadata": {},
   "outputs": [
    {
     "name": "stdout",
     "output_type": "stream",
     "text": [
      "Number of original data rows: 29966\n",
      "Number of rows after dropping data wit missing rows: 28797\n",
      "Number of missing data: 1169\n"
     ]
    }
   ],
   "source": [
    "prediction.count()\n",
    "a = prediction.count()\n",
    "print(\"Number of original data rows:\",a)\n",
    "#drop rows with any missing data\n",
    "cleanPred = prediction.dropna(how=\"any\",subset=[\"prediction\"])\n",
    "b = cleanPred.count()\n",
    "print(\"Number of rows after dropping data wit missing rows:\",b)\n",
    "print(\"Number of missing data:\", a-b)"
   ]
  },
  {
   "cell_type": "code",
   "execution_count": 16,
   "metadata": {},
   "outputs": [
    {
     "name": "stdout",
     "output_type": "stream",
     "text": [
      "Root Mean Square Error:  1.2551822384919467\n"
     ]
    }
   ],
   "source": [
    "rmse = evaluator.evaluate(cleanPred)\n",
    "print(\"Root Mean Square Error: \",rmse)\n"
   ]
  },
  {
   "cell_type": "code",
   "execution_count": null,
   "metadata": {},
   "outputs": [],
   "source": []
  }
 ],
 "metadata": {
  "kernelspec": {
   "display_name": "Python 3",
   "language": "python",
   "name": "python3"
  },
  "language_info": {
   "codemirror_mode": {
    "name": "ipython",
    "version": 3
   },
   "file_extension": ".py",
   "mimetype": "text/x-python",
   "name": "python",
   "nbconvert_exporter": "python",
   "pygments_lexer": "ipython3",
   "version": "3.7.3"
  }
 },
 "nbformat": 4,
 "nbformat_minor": 2
}
